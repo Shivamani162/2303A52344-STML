{
  "nbformat": 4,
  "nbformat_minor": 0,
  "metadata": {
    "colab": {
      "provenance": [],
      "mount_file_id": "1D66qDsRDAIPBVEU3U0JDRhZBzSt6A40r",
      "authorship_tag": "ABX9TyN241CguidaOioNHLsT6m3v",
      "include_colab_link": true
    },
    "kernelspec": {
      "name": "python3",
      "display_name": "Python 3"
    },
    "language_info": {
      "name": "python"
    }
  },
  "cells": [
    {
      "cell_type": "markdown",
      "metadata": {
        "id": "view-in-github",
        "colab_type": "text"
      },
      "source": [
        "<a href=\"https://colab.research.google.com/github/Shivamani162/2303A52344-STML/blob/main/Assignment_11.ipynb\" target=\"_parent\"><img src=\"https://colab.research.google.com/assets/colab-badge.svg\" alt=\"Open In Colab\"/></a>"
      ]
    },
    {
      "cell_type": "code",
      "execution_count": 8,
      "metadata": {
        "colab": {
          "base_uri": "https://localhost:8080/"
        },
        "id": "XhNAw0Ca1fec",
        "outputId": "1b997a62-2b7c-44d8-fd08-42a6432b7395"
      },
      "outputs": [
        {
          "output_type": "stream",
          "name": "stdout",
          "text": [
            "Accuracies before PCA: {'SVM': 0.7761194029850746, 'KNN': 0.7313432835820896, 'Logistic Regression': 0.7761194029850746}\n",
            "Accuracies after PCA: {'SVM': 0.7761194029850746, 'KNN': 0.7164179104477612, 'Logistic Regression': 0.7761194029850746}\n"
          ]
        }
      ],
      "source": [
        "import pandas as pd\n",
        "from sklearn.model_selection import train_test_split\n",
        "from sklearn.preprocessing import LabelEncoder, StandardScaler\n",
        "from sklearn.decomposition import PCA\n",
        "from sklearn.svm import SVC\n",
        "from sklearn.neighbors import KNeighborsClassifier\n",
        "from sklearn.linear_model import LogisticRegression\n",
        "from sklearn.metrics import accuracy_score\n",
        "\n",
        "# Load the data\n",
        "file_path = '/content/drive/MyDrive/breast_cancer_survival.csv'\n",
        "# The issue was on this line: data was assigned to the file path string.\n",
        "# Now, it's correctly assigned to the DataFrame loaded from the CSV file.\n",
        "data = pd.read_csv(file_path)\n",
        "\n",
        "# Drop date columns as they are not relevant features and encode categorical variables\n",
        "data = data.drop(['Date_of_Surgery', 'Date_of_Last_Visit'], axis=1)\n",
        "categorical_cols = ['Gender', 'Tumour_Stage', 'Histology', 'ER status', 'PR status', 'HER2 status', 'Surgery_type', 'Patient_Status']\n",
        "le = LabelEncoder()\n",
        "for col in categorical_cols:\n",
        "    data[col] = le.fit_transform(data[col])\n",
        "\n",
        "# Separate features and target variable\n",
        "X = data.drop('Patient_Status', axis=1)\n",
        "y = data['Patient_Status']\n",
        "\n",
        "# Split the dataset into training and testing sets\n",
        "X_train, X_test, y_train, y_test = train_test_split(X, y, test_size=0.2, random_state=42)\n",
        "\n",
        "# Standardize the features\n",
        "scaler = StandardScaler()\n",
        "X_train = scaler.fit_transform(X_train)\n",
        "X_test = scaler.transform(X_test)\n",
        "\n",
        "# Train models and calculate accuracy before PCA\n",
        "models = {'SVM': SVC(), 'KNN': KNeighborsClassifier(), 'Logistic Regression': LogisticRegression(max_iter=1000)}\n",
        "accuracies_before_pca = {}\n",
        "for model_name, model in models.items():\n",
        "    model.fit(X_train, y_train)\n",
        "    y_pred = model.predict(X_test)\n",
        "    accuracies_before_pca[model_name] = accuracy_score(y_test, y_pred)\n",
        "\n",
        "# Apply PCA to reduce dimensions to 2 for visualization and simplicity\n",
        "pca = PCA(n_components=2)\n",
        "X_train_pca = pca.fit_transform(X_train)\n",
        "X_test_pca = pca.transform(X_test)\n",
        "\n",
        "# Train models and calculate accuracy after PCA\n",
        "accuracies_after_pca = {}\n",
        "for model_name, model in models.items():\n",
        "    model.fit(X_train_pca, y_train)\n",
        "    y_pred = model.predict(X_test_pca)\n",
        "    accuracies_after_pca[model_name] = accuracy_score(y_test, y_pred)\n",
        "\n",
        "# Print accuracy results\n",
        "print(\"Accuracies before PCA:\", accuracies_before_pca)\n",
        "print(\"Accuracies after PCA:\", accuracies_after_pca)"
      ]
    }
  ]
}