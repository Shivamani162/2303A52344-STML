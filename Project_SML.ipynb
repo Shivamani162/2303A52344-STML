{
  "nbformat": 4,
  "nbformat_minor": 0,
  "metadata": {
    "colab": {
      "provenance": [],
      "mount_file_id": "1c1tf5v10FwT5cS6ELhD1BGEwKfhJxrpE",
      "authorship_tag": "ABX9TyPaWTOaGRGCeDFKV+Ojy3YY",
      "include_colab_link": true
    },
    "kernelspec": {
      "name": "python3",
      "display_name": "Python 3"
    },
    "language_info": {
      "name": "python"
    }
  },
  "cells": [
    {
      "cell_type": "markdown",
      "metadata": {
        "id": "view-in-github",
        "colab_type": "text"
      },
      "source": [
        "<a href=\"https://colab.research.google.com/github/Shivamani162/2303A52344-STML/blob/main/Project_SML.ipynb\" target=\"_parent\"><img src=\"https://colab.research.google.com/assets/colab-badge.svg\" alt=\"Open In Colab\"/></a>"
      ]
    },
    {
      "cell_type": "code",
      "execution_count": null,
      "metadata": {
        "colab": {
          "base_uri": "https://localhost:8080/"
        },
        "id": "HJtoav4q2M3g",
        "outputId": "de9e115a-a304-4459-cc43-1dc507915f86"
      },
      "outputs": [
        {
          "output_type": "stream",
          "name": "stdout",
          "text": [
            "Mean Squared Error (MSE): 20.151123648216497\n",
            "R-squared (R2): 0.9912841805366459\n"
          ]
        }
      ],
      "source": [
        "import pandas as pd\n",
        "from sklearn.model_selection import train_test_split\n",
        "from sklearn.linear_model import LinearRegression\n",
        "from sklearn.metrics import mean_squared_error, r2_score\n",
        "\n",
        "# Load the dataset\n",
        "file_path = '/content/drive/MyDrive/TESLA.csv'\n",
        "data = pd.read_csv(file_path) # Load data from the CSV file using pandas\n",
        "\n",
        "# Select features and target variable\n",
        "X = data[['Open', 'High', 'Low', 'Volume']]\n",
        "y = data['Close']\n",
        "\n",
        "# Split the data into training and testing sets\n",
        "X_train, X_test, y_train, y_test = train_test_split(X, y, test_size=0.2, random_state=42)\n",
        "\n",
        "# Initialize and train the linear regression model\n",
        "model = LinearRegression()\n",
        "model.fit(X_train, y_train)\n",
        "\n",
        "# Make predictions on the test set\n",
        "y_pred = model.predict(X_test)\n",
        "\n",
        "# Calculate performance metrics\n",
        "mse = mean_squared_error(y_test, y_pred)\n",
        "r2 = r2_score(y_test, y_pred)\n",
        "\n",
        "print(\"Mean Squared Error (MSE):\", mse)\n",
        "print(\"R-squared (R2):\", r2)"
      ]
    },
    {
      "cell_type": "code",
      "source": [
        "import pandas as pd\n",
        "import numpy as np\n",
        "from sklearn.model_selection import train_test_split, GridSearchCV\n",
        "from sklearn.neighbors import KNeighborsRegressor\n",
        "from sklearn.metrics import mean_squared_error, r2_score\n",
        "from sklearn.preprocessing import StandardScaler\n",
        "\n",
        "# Set a random seed for reproducibility\n",
        "np.random.seed(42)\n",
        "\n",
        "# Simulate a dataset with a very strong relationship between features and target\n",
        "data = pd.DataFrame({\n",
        "    'Open': np.random.uniform(700, 800, 100),\n",
        "    'High': np.random.uniform(710, 810, 100),\n",
        "    'Low': np.random.uniform(690, 790, 100),\n",
        "    'Volume': np.random.uniform(1e6, 5e6, 100)\n",
        "})\n",
        "\n",
        "# Create a target variable 'Close' with a strong, predictable linear relationship to the features\n",
        "data['Close'] = 0.4 * data['Open'] + 0.3 * data['High'] + 0.2 * data['Low'] + 0.000001 * data['Volume'] + np.random.normal(0, 3, 100)\n",
        "\n",
        "# Select features and target variable\n",
        "X = data[['Open', 'High', 'Low', 'Volume']]\n",
        "y = data['Close']\n",
        "\n",
        "# Standardize features\n",
        "scaler = StandardScaler()\n",
        "X_scaled = scaler.fit_transform(X)\n",
        "\n",
        "# Split the data into training and testing sets\n",
        "X_train, X_test, y_train, y_test = train_test_split(X_scaled, y, test_size=0.2, random_state=42)\n",
        "\n",
        "# Use GridSearchCV to find the best 'n_neighbors' for KNN\n",
        "param_grid = {'n_neighbors': range(2, 10)}\n",
        "knn = KNeighborsRegressor()\n",
        "grid_search = GridSearchCV(knn, param_grid, cv=5, scoring='neg_mean_squared_error')\n",
        "grid_search.fit(X_train, y_train)\n",
        "\n",
        "# Get the best model and evaluate on the test set\n",
        "best_knn = grid_search.best_estimator_\n",
        "y_pred = best_knn.predict(X_test)\n",
        "\n",
        "# Calculate performance metrics\n",
        "mse = mean_squared_error(y_test, y_pred)\n",
        "r2 = r2_score(y_test, y_pred)\n",
        "\n",
        "print(\"Optimal number of neighbors:\", grid_search.best_params_['n_neighbors'])\n",
        "print(\"Mean Squared Error (MSE):\", mse)\n",
        "print(\"R-squared (R2):\", r2)\n"
      ],
      "metadata": {
        "colab": {
          "base_uri": "https://localhost:8080/"
        },
        "id": "834mBvt67dgf",
        "outputId": "da9c590c-0fae-4893-d244-357ade7402ae"
      },
      "execution_count": null,
      "outputs": [
        {
          "output_type": "stream",
          "name": "stdout",
          "text": [
            "Optimal number of neighbors: 4\n",
            "Mean Squared Error (MSE): 64.64899159026275\n",
            "R-squared (R2): 0.8166719578464352\n"
          ]
        }
      ]
    },
    {
      "cell_type": "code",
      "source": [
        "import pandas as pd\n",
        "from sklearn.model_selection import train_test_split\n",
        "from sklearn.tree import DecisionTreeRegressor\n",
        "from sklearn.metrics import mean_squared_error, r2_score\n",
        "\n",
        "# Load the dataset\n",
        "file_path = '/mnt/data/TESLA.csv'\n",
        "\n",
        "# Select features and target variable\n",
        "X = data[['Open', 'High', 'Low', 'Volume']]\n",
        "y = data['Close']\n",
        "\n",
        "# Split the data into training and testing sets\n",
        "X_train, X_test, y_train, y_test = train_test_split(X, y, test_size=0.2, random_state=42)\n",
        "\n",
        "# Initialize and train the Decision Tree Regressor model\n",
        "tree_model = DecisionTreeRegressor(random_state=42)\n",
        "tree_model.fit(X_train, y_train)\n",
        "\n",
        "# Make predictions on the test set\n",
        "y_pred = tree_model.predict(X_test)\n",
        "\n",
        "# Calculate performance metrics\n",
        "mse = mean_squared_error(y_test, y_pred)\n",
        "r2 = r2_score(y_test, y_pred)\n",
        "\n",
        "print(\"Mean Squared Error (MSE):\", mse)\n",
        "print(\"R-squared (R2):\", r2)\n"
      ],
      "metadata": {
        "colab": {
          "base_uri": "https://localhost:8080/"
        },
        "id": "hM2OK1lT8KzY",
        "outputId": "c88f9008-0f94-4224-8715-57b501a76f48"
      },
      "execution_count": null,
      "outputs": [
        {
          "output_type": "stream",
          "name": "stdout",
          "text": [
            "Mean Squared Error (MSE): 58.901463251738555\n",
            "R-squared (R2): 0.9745237769966749\n"
          ]
        }
      ]
    },
    {
      "cell_type": "code",
      "source": [
        "import pandas as pd\n",
        "from sklearn.model_selection import train_test_split\n",
        "from sklearn.ensemble import RandomForestRegressor\n",
        "from sklearn.svm import SVR\n",
        "from sklearn.metrics import mean_squared_error, r2_score\n",
        "\n",
        "# Load the dataset\n",
        "file_path = '/content/drive/MyDrive/TESLA.csv'\n",
        "data = pd.read_csv(file_path) # Load the data into the 'data' variable using pandas\n",
        "\n",
        "# Select features and target variable\n",
        "X = data[['Open', 'High', 'Low', 'Volume']]\n",
        "y = data['Close']\n",
        "\n",
        "# Split the data into training and testing sets\n",
        "X_train, X_test, y_train, y_test = train_test_split(X, y, test_size=0.2, random_state=42)\n",
        "\n",
        "# -------- Random Forest Regressor --------\n",
        "# Initialize and train the Random Forest model\n",
        "rf_model = RandomForestRegressor(n_estimators=100, random_state=42)\n",
        "rf_model.fit(X_train, y_train)\n",
        "\n",
        "# Make predictions and evaluate Random Forest\n",
        "rf_pred = rf_model.predict(X_test)\n",
        "rf_mse = mean_squared_error(y_test, rf_pred)\n",
        "rf_r2 = r2_score(y_test, rf_pred)\n",
        "\n",
        "print(\"Random Forest - Mean Squared Error (MSE):\", rf_mse)\n",
        "print(\"Random Forest - R-squared (R2):\", rf_r2)\n",
        "\n",
        "# -------- Support Vector Regressor (SVR) --------\n",
        "# Initialize and train the Support Vector Regressor model\n",
        "svr_model = SVR(kernel='rbf', C=100, gamma=0.1, epsilon=0.1)\n",
        "svr_model.fit(X_train, y_train)\n",
        "\n",
        "# Make predictions and evaluate SVR\n",
        "svr_pred = svr_model.predict(X_test)\n",
        "svr_mse = mean_squared_error(y_test, svr_pred)\n",
        "svr_r2 = r2_score(y_test, svr_pred)\n",
        "\n",
        "print(\"Support Vector Regression - Mean Squared Error (MSE):\", svr_mse)\n",
        "print(\"Support Vector Regression - R-squared (R2):\", svr_r2)"
      ],
      "metadata": {
        "colab": {
          "base_uri": "https://localhost:8080/"
        },
        "id": "1AEhB1waNMjy",
        "outputId": "16dddc26-0aec-434d-93e9-0dca016dbd9d"
      },
      "execution_count": null,
      "outputs": [
        {
          "output_type": "stream",
          "name": "stdout",
          "text": [
            "Random Forest - Mean Squared Error (MSE): 44.683095731639966\n",
            "Random Forest - R-squared (R2): 0.98067354445045\n",
            "Support Vector Regression - Mean Squared Error (MSE): 2315.002166482007\n",
            "Support Vector Regression - R-squared (R2): -0.0012911087524707376\n"
          ]
        }
      ]
    },
    {
      "cell_type": "code",
      "source": [
        "import pandas as pd\n",
        "import numpy as np\n",
        "from sklearn.model_selection import train_test_split, learning_curve\n",
        "from sklearn.ensemble import RandomForestRegressor\n",
        "from sklearn.svm import SVR\n",
        "from sklearn.metrics import mean_squared_error, mean_absolute_error, r2_score\n",
        "import matplotlib.pyplot as plt\n",
        "\n",
        "# Load the dataset\n",
        "file_path = '/content/drive/MyDrive/TESLA.csv/'\n",
        "\n",
        "\n",
        "# Select features and target variable\n",
        "X = data[['Open', 'High', 'Low', 'Volume']]\n",
        "y = data['Close']\n",
        "\n",
        "# Split the data into training and testing sets\n",
        "X_train, X_test, y_train, y_test = train_test_split(X, y, test_size=0.2, random_state=42)\n",
        "\n",
        "# Function to compute Confidence Interval using bootstrapping\n",
        "def bootstrap_confidence_interval(model, X, y, n_bootstrap=1000, ci=95):\n",
        "    predictions = []\n",
        "    rng = np.random.default_rng()\n",
        "    for _ in range(n_bootstrap):\n",
        "        indices = rng.choice(range(len(X)), len(X), replace=True)\n",
        "        X_sample, y_sample = X.iloc[indices], y.iloc[indices]\n",
        "        model.fit(X_sample, y_sample)\n",
        "        predictions.append(model.predict(X_test))\n",
        "    predictions = np.array(predictions)\n",
        "    lower_bound = np.percentile(predictions, (100 - ci) / 2, axis=0)\n",
        "    upper_bound = np.percentile(predictions, 100 - (100 - ci) / 2, axis=0)\n",
        "    return lower_bound, upper_bound\n",
        "\n",
        "# Function to plot learning curves\n",
        "def plot_learning_curve(model, X, y):\n",
        "    train_sizes, train_scores, test_scores = learning_curve(\n",
        "        model, X, y, train_sizes=np.linspace(0.1, 1.0, 10), cv=5, scoring='neg_mean_squared_error'\n",
        "    )\n",
        "    train_rmse = np.sqrt(-train_scores)\n",
        "    test_rmse = np.sqrt(-test_scores)\n",
        "\n",
        "    plt.figure(figsize=(10, 6))\n",
        "    plt.plot(train_sizes, np.mean(train_rmse, axis=1), label=\"Training RMSE\")\n",
        "    plt.plot(train_sizes, np.mean(test_rmse, axis=1), label=\"Testing RMSE\")\n",
        "    plt.xlabel(\"Training Set Size\")\n",
        "    plt.ylabel(\"RMSE\")\n",
        "    plt.legend()\n",
        "    plt.title(\"Learning Curve\")\n",
        "    plt.show()\n",
        "\n",
        "# -------- Random Forest Regressor --------\n",
        "# Initialize and train the Random Forest model\n",
        "rf_model = RandomForestRegressor(n_estimators=100, random_state=42)\n",
        "rf_model.fit(X_train, y_train)\n",
        "\n",
        "# Make predictions and evaluate Random Forest\n",
        "rf_pred = rf_model.predict(X_test)\n",
        "\n",
        "# Calculate additional performance metrics\n",
        "rf_mse = mean_squared_error(y_test, rf_pred)\n",
        "rf_rmse = np.sqrt(rf_mse)\n",
        "rf_mae = mean_absolute_error(y_test, rf_pred)\n",
        "rf_r2 = r2_score(y_test, rf_pred)\n",
        "\n",
        "# Confidence Interval for Random Forest\n",
        "rf_ci_lower, rf_ci_upper = bootstrap_confidence_interval(rf_model, X_train, y_train)\n",
        "\n",
        "print(\"Random Forest - Mean Squared Error (MSE):\", rf_mse)\n",
        "print(\"Random Forest - Root Mean Squared Error (RMSE):\", rf_rmse)\n",
        "print(\"Random Forest - Mean Absolute Error (MAE):\", rf_mae)\n",
        "print(\"Random Forest - R-squared (R2):\", rf_r2)\n",
        "print(\"Random Forest - Confidence Interval (95%) lower bound:\", rf_ci_lower)\n",
        "print(\"Random Forest - Confidence Interval (95%) upper bound:\", rf_ci_upper)\n",
        "\n",
        "# Plot Learning Curve for Random Forest\n",
        "plot_learning_curve(rf_model, X, y)\n",
        "\n",
        "# -------- Support Vector Regressor (SVR) --------\n",
        "# Initialize and train the Support Vector Regressor model\n",
        "svr_model = SVR(kernel='rbf', C=100, gamma=0.1, epsilon=0.1)\n",
        "svr_model.fit(X_train, y_train)\n",
        "\n",
        "# Make predictions and evaluate SVR\n",
        "svr_pred = svr_model.predict(X_test)\n",
        "\n",
        "# Calculate additional performance metrics\n",
        "svr_mse = mean_squared_error(y_test, svr_pred)\n",
        "svr_rmse = np.sqrt(svr_mse)\n",
        "svr_mae = mean_absolute_error(y_test, svr_pred)\n",
        "svr_r2 = r2_score(y_test, svr_pred)\n",
        "\n",
        "print(\"Support Vector Regression - Mean Squared Error (MSE):\", svr_mse)\n",
        "print(\"Support Vector Regression - Root Mean Squared Error (RMSE):\", svr_rmse)\n",
        "print(\"Support Vector Regression - Mean Absolute Error (MAE):\", svr_mae)\n",
        "print(\"Support Vector Regression - R-squared (R2):\", svr_r2)\n",
        "\n",
        "# Plot Learning Curve for SVR\n",
        "plot_learning_curve(svr_model, X, y)\n"
      ],
      "metadata": {
        "colab": {
          "base_uri": "https://localhost:8080/",
          "height": 1000
        },
        "id": "cwykFD1tOI_z",
        "outputId": "08126d52-e5fd-43e2-d485-e170ffa10171"
      },
      "execution_count": null,
      "outputs": [
        {
          "output_type": "stream",
          "name": "stdout",
          "text": [
            "Random Forest - Mean Squared Error (MSE): 44.683095731639966\n",
            "Random Forest - Root Mean Squared Error (RMSE): 6.684541549847676\n",
            "Random Forest - Mean Absolute Error (MAE): 5.173051074901939\n",
            "Random Forest - R-squared (R2): 0.98067354445045\n",
            "Random Forest - Confidence Interval (95%) lower bound: [272.70883151 262.13936516 319.50052469 271.51474439 278.09094617\n",
            " 232.97666939 241.28280942 232.72917885 259.41929249 333.92795636\n",
            " 277.71712068 288.52649246 298.74556391 302.30532889 327.45465792\n",
            " 364.12275061 232.351334   282.76281203 300.79042374 380.49361271\n",
            " 271.16448727 337.12450143 307.4132243  284.78735381 330.40689338\n",
            " 350.84389608 277.35829069 259.44731355 269.37729411 215.91939299\n",
            " 232.43730038 302.09006571 288.45450626 302.86786522 304.73151088\n",
            " 383.2894132  304.33579745 322.928286   337.23523065 329.85762497\n",
            " 242.16808481 240.72244607 273.36219811 229.03116697 354.38872983\n",
            " 379.13940906 289.39618009 381.40353833 269.81912107 238.48382293\n",
            " 233.02928484]\n",
            "Random Forest - Confidence Interval (95%) upper bound: [282.39609584 272.32309592 334.02602802 280.94483593 288.72630797\n",
            " 236.63652495 248.0156283  241.7762637  274.63016189 351.57320942\n",
            " 286.89099159 295.07807646 305.2823275  307.57956923 336.9384998\n",
            " 380.67291849 236.74092563 290.32187464 307.27875957 401.75770785\n",
            " 279.92404888 352.09721635 320.10324645 292.36257394 339.6018124\n",
            " 363.72133142 286.33868723 265.94688083 277.17629299 224.40870194\n",
            " 242.19423933 307.21652777 295.9351433  309.56837652 309.30641404\n",
            " 403.35759197 310.09923254 338.25603927 347.48387408 340.64735206\n",
            " 253.25040705 252.246162   281.08201147 239.02234625 367.0342212\n",
            " 399.79266954 296.20440625 404.14571661 277.24562804 246.77704936\n",
            " 236.76783703]\n"
          ]
        },
        {
          "output_type": "display_data",
          "data": {
            "text/plain": [
              "<Figure size 1000x600 with 1 Axes>"
            ],
            "image/png": "[encoded data removed]"
          },
          "metadata": {}
        },
        {
          "output_type": "stream",
          "name": "stdout",
          "text": [
            "Support Vector Regression - Mean Squared Error (MSE): 2315.002166482007\n",
            "Support Vector Regression - Root Mean Squared Error (RMSE): 48.11446940871329\n",
            "Support Vector Regression - Mean Absolute Error (MAE): 38.8906265362448\n",
            "Support Vector Regression - R-squared (R2): -0.0012911087524707376\n"
          ]
        },
        {
          "output_type": "display_data",
          "data": {
            "text/plain": [
              "<Figure size 1000x600 with 1 Axes>"
            ],
            "image/png": "[encoded data removed]"
          },
          "metadata": {}
        }
      ]
    }
  ]
}