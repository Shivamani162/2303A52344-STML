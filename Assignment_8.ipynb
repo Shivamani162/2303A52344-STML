{
  "nbformat": 4,
  "nbformat_minor": 0,
  "metadata": {
    "colab": {
      "provenance": [],
      "mount_file_id": "1x75FFZeTY34gTftmNuPit4TNP-YuJ_9I",
      "authorship_tag": "ABX9TyPoWDjlW0/cw6smZM3Eaa5W",
      "include_colab_link": true
    },
    "kernelspec": {
      "name": "python3",
      "display_name": "Python 3"
    },
    "language_info": {
      "name": "python"
    }
  },
  "cells": [
    {
      "cell_type": "markdown",
      "metadata": {
        "id": "view-in-github",
        "colab_type": "text"
      },
      "source": [
        "<a href=\"https://colab.research.google.com/github/Shivamani162/2303A52344-STML/blob/main/Assignment_8.ipynb\" target=\"_parent\"><img src=\"https://colab.research.google.com/assets/colab-badge.svg\" alt=\"Open In Colab\"/></a>"
      ]
    },
    {
      "cell_type": "code",
      "execution_count": 1,
      "metadata": {
        "colab": {
          "base_uri": "https://localhost:8080/"
        },
        "id": "ypjcDUACm6A8",
        "outputId": "c36ac80d-2d63-46c1-a718-998b18ef0119"
      },
      "outputs": [
        {
          "output_type": "stream",
          "name": "stdout",
          "text": [
            "   X1  X2  X3  X4   X5  Pass/Fail\n",
            "0  10  90  85   1  100          1\n",
            "1   5  60  70   0   80          0\n",
            "2  15  95  90   1  100          1\n",
            "3   2  30  50   0   40          0\n",
            "4  12  85  88   1   90          1\n",
            "5   8  75  65   0   70          0\n",
            "6  14  92  93   1   95          1\n",
            "7   3  50  55   0   60          0\n",
            "8  11  88  80   1   85          1\n",
            "9   6  65  60   0   75          0\n"
          ]
        }
      ],
      "source": [
        "import pandas as pd\n",
        "\n",
        "# Creating the dataset\n",
        "data = {\n",
        "    'X1': [10, 5, 15, 2, 12, 8, 14, 3, 11, 6],\n",
        "    'X2': [90, 60, 95, 30, 85, 75, 92, 50, 88, 65],\n",
        "    'X3': [85, 70, 90, 50, 88, 65, 93, 55, 80, 60],\n",
        "    'X4': [1, 0, 1, 0, 1, 0, 1, 0, 1, 0],\n",
        "    'X5': [100, 80, 100, 40, 90, 70, 95, 60, 85, 75],\n",
        "    'Pass/Fail': [1, 0, 1, 0, 1, 0, 1, 0, 1, 0]\n",
        "}\n",
        "\n",
        "# Creating a DataFrame\n",
        "df = pd.DataFrame(data)\n",
        "\n",
        "# Displaying the DataFrame\n",
        "print(df)"
      ]
    },
    {
      "cell_type": "code",
      "source": [
        "import pandas as pd\n",
        "from sklearn.model_selection import train_test_split\n",
        "from sklearn.linear_model import LogisticRegression\n",
        "from sklearn.metrics import accuracy_score\n",
        "from sklearn.preprocessing import StandardScaler\n",
        "from sklearn.preprocessing import OneHotEncoder\n",
        "from sklearn.compose import ColumnTransformer\n",
        "from sklearn.pipeline import Pipeline\n",
        "\n",
        "# Load the dataset\n",
        "url = \"/content/drive/MyDrive/diabetes_data_upload.csv\"\n",
        "data = pd.read_csv(url)\n",
        "\n",
        "# Display the first few rows of the dataset\n",
        "print(data.head())\n",
        "\n",
        "# Define features and target variable\n",
        "X = data.drop(columns=['Age'])  # Features\n",
        "y = data['Age']                  # Target variable\n",
        "\n",
        "# Preprocessing: Normalize numerical features and encode categorical features\n",
        "# (Assuming 'Outcome' is the only binary target variable)\n",
        "\n",
        "# Create a preprocessing pipeline\n",
        "numerical_features = X.select_dtypes(include=['int64', 'float64']).columns.tolist()\n",
        "\n",
        "# Check if any numerical features were identified\n",
        "if not numerical_features:\n",
        "    # If no numerical features found, print data types of all columns to investigate\n",
        "    print(X.dtypes)\n",
        "    # Optionally, try to convert object columns to numeric\n",
        "    # X = X.apply(pd.to_numeric, errors='coerce')\n",
        "    # numerical_features = X.select_dtypes(include=['int64', 'float64']).columns.tolist()\n",
        "else:\n",
        "    preprocessor = ColumnTransformer(\n",
        "        transformers=[\n",
        "            ('num', StandardScaler(), numerical_features)\n",
        "        ]\n",
        "    )"
      ],
      "metadata": {
        "colab": {
          "base_uri": "https://localhost:8080/"
        },
        "id": "QE7ak3NLnHWB",
        "outputId": "1b5a7116-34c0-4b47-c079-3e816dc2f4a1"
      },
      "execution_count": 2,
      "outputs": [
        {
          "output_type": "stream",
          "name": "stdout",
          "text": [
            "   Age Gender Polyuria Polydipsia sudden weight loss weakness Polyphagia  \\\n",
            "0   40   Male       No        Yes                 No      Yes         No   \n",
            "1   58   Male       No         No                 No      Yes         No   \n",
            "2   41   Male      Yes         No                 No      Yes        Yes   \n",
            "3   45   Male       No         No                Yes      Yes        Yes   \n",
            "4   60   Male      Yes        Yes                Yes      Yes        Yes   \n",
            "\n",
            "  Genital thrush visual blurring Itching Irritability delayed healing  \\\n",
            "0             No              No     Yes           No             Yes   \n",
            "1             No             Yes      No           No              No   \n",
            "2             No              No     Yes           No             Yes   \n",
            "3            Yes              No     Yes           No             Yes   \n",
            "4             No             Yes     Yes          Yes             Yes   \n",
            "\n",
            "  partial paresis muscle stiffness Alopecia Obesity     class  \n",
            "0              No              Yes      Yes     Yes  Positive  \n",
            "1             Yes               No      Yes      No  Positive  \n",
            "2              No              Yes      Yes      No  Positive  \n",
            "3              No               No       No      No  Positive  \n",
            "4             Yes              Yes      Yes     Yes  Positive  \n",
            "Gender                object\n",
            "Polyuria              object\n",
            "Polydipsia            object\n",
            "sudden weight loss    object\n",
            "weakness              object\n",
            "Polyphagia            object\n",
            "Genital thrush        object\n",
            "visual blurring       object\n",
            "Itching               object\n",
            "Irritability          object\n",
            "delayed healing       object\n",
            "partial paresis       object\n",
            "muscle stiffness      object\n",
            "Alopecia              object\n",
            "Obesity               object\n",
            "class                 object\n",
            "dtype: object\n"
          ]
        }
      ]
    }
  ]
}